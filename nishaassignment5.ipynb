{
 "cells": [
  {
   "cell_type": "code",
   "execution_count": 7,
   "id": "78667ff4-1b5b-4f40-90f2-7c75b082072b",
   "metadata": {},
   "outputs": [
    {
     "data": {
      "text/plain": [
       "[('Virat Kohli', 24936),\n",
       " ('Jack Kallis', 25534),\n",
       " ('Ricky Ponting', 27483),\n",
       " ('Sachin Tendulkar', 34357)]"
      ]
     },
     "execution_count": 7,
     "metadata": {},
     "output_type": "execute_result"
    }
   ],
   "source": [
    "#ques1_Answer:\n",
    "l=[('Sachin Tendulkar', 34357), ('Ricky Ponting', 27483), ('Jack Kallis', 25534), ('Virat Kohli', 24936)]\n",
    "sorted(l,key=lambda x: x[1])"
   ]
  },
  {
   "cell_type": "code",
   "execution_count": 8,
   "id": "9dee5f0f-cb89-4c61-9b07-f8b03a2aaefb",
   "metadata": {},
   "outputs": [
    {
     "data": {
      "text/plain": [
       "[1, 4, 9, 16, 25, 36, 49, 64, 81, 100]"
      ]
     },
     "execution_count": 8,
     "metadata": {},
     "output_type": "execute_result"
    }
   ],
   "source": [
    "#ques2_Answer:\n",
    "a=[1, 2, 3, 4, 5, 6, 7, 8, 9, 10]\n",
    "list(map(lambda x:x**2,a))\n"
   ]
  },
  {
   "cell_type": "code",
   "execution_count": 14,
   "id": "ede16212-7c5b-4ef1-8fb7-97e06724739e",
   "metadata": {},
   "outputs": [
    {
     "data": {
      "text/plain": [
       "('1', '2', '3', '4', '5', '6', '7', '8', '9', '10')"
      ]
     },
     "execution_count": 14,
     "metadata": {},
     "output_type": "execute_result"
    }
   ],
   "source": [
    "#ques3_Answer:\n",
    "b=[1, 2, 3, 4, 5, 6, 7, 8, 9, 10]\n",
    "tuple(map(lambda x:str(x),b))"
   ]
  },
  {
   "cell_type": "code",
   "execution_count": 1,
   "id": "b596d461-7ef2-4bf3-a24d-310af2fb972c",
   "metadata": {},
   "outputs": [
    {
     "data": {
      "text/plain": [
       "15511210043330985984000000"
      ]
     },
     "execution_count": 1,
     "metadata": {},
     "output_type": "execute_result"
    }
   ],
   "source": [
    "#ques4_Answer:\n",
    "from functools import reduce\n",
    "c= range(1,26)\n",
    "reduce(lambda x,y : x*y,c)"
   ]
  },
  {
   "cell_type": "code",
   "execution_count": 21,
   "id": "e79f5707-9a1f-4679-b2a6-77cbdce80f6f",
   "metadata": {},
   "outputs": [
    {
     "data": {
      "text/plain": [
       "[6, 60, 90, 120]"
      ]
     },
     "execution_count": 21,
     "metadata": {},
     "output_type": "execute_result"
    }
   ],
   "source": [
    "#ques5_Answer:\n",
    "d=[2, 3, 6, 9, 27, 60, 90, 120, 55, 46]\n",
    "l1=[]\n",
    "list(filter(lambda x:  x%2==0 and x%3==0,d))"
   ]
  },
  {
   "cell_type": "code",
   "execution_count": 10,
   "id": "ab571ed8-427c-466d-9fc0-2aafb0047fde",
   "metadata": {},
   "outputs": [
    {
     "name": "stdout",
     "output_type": "stream",
     "text": [
      "['php', 'aba', 'radar', 'level']\n"
     ]
    }
   ],
   "source": [
    "#ques6_Answer:\n",
    "str =['python', 'php', 'aba', 'radar', 'level']\n",
    "palindrome = list(filter(lambda x: (x[::-1] == x),str))\n",
    "print(palindrome)"
   ]
  },
  {
   "cell_type": "code",
   "execution_count": null,
   "id": "dd3b2dc5-261b-47ad-acc0-431c2faa4d70",
   "metadata": {},
   "outputs": [],
   "source": []
  },
  {
   "cell_type": "code",
   "execution_count": null,
   "id": "bb7fc288-a4ad-4f59-b197-74d61339fb6a",
   "metadata": {},
   "outputs": [],
   "source": []
  }
 ],
 "metadata": {
  "kernelspec": {
   "display_name": "Python 3 (ipykernel)",
   "language": "python",
   "name": "python3"
  },
  "language_info": {
   "codemirror_mode": {
    "name": "ipython",
    "version": 3
   },
   "file_extension": ".py",
   "mimetype": "text/x-python",
   "name": "python",
   "nbconvert_exporter": "python",
   "pygments_lexer": "ipython3",
   "version": "3.10.6"
  }
 },
 "nbformat": 4,
 "nbformat_minor": 5
}
